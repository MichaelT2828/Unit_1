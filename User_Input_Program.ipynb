{
  "nbformat": 4,
  "nbformat_minor": 0,
  "metadata": {
    "colab": {
      "name": "User Input.ipynb",
      "provenance": [],
      "authorship_tag": "ABX9TyNVsc/FssiUJSnHkSSFg1ET",
      "include_colab_link": true
    },
    "kernelspec": {
      "name": "python3",
      "display_name": "Python 3"
    },
    "language_info": {
      "name": "python"
    }
  },
  "cells": [
    {
      "cell_type": "markdown",
      "metadata": {
        "id": "view-in-github",
        "colab_type": "text"
      },
      "source": [
        "<a href=\"https://colab.research.google.com/github/MichaelT2828/Unit_1/blob/main/User_Input_Program.ipynb\" target=\"_parent\"><img src=\"https://colab.research.google.com/assets/colab-badge.svg\" alt=\"Open In Colab\"/></a>"
      ]
    },
    {
      "cell_type": "code",
      "metadata": {
        "id": "dJZOp5YCL5C8"
      },
      "source": [
        "#The purpose of this program is to save the name of the user\n",
        "uname = input('Please input your name: ') #Asks user to input name\n",
        "print('Developer Name: Michael')\n",
        "print(f'Evaluator Name: {uname}')\n",
        "print('Name of program: User_Input')"
      ],
      "execution_count": null,
      "outputs": []
    }
  ]
}