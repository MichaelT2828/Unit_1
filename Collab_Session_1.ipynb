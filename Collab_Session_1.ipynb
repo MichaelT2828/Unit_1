{
  "nbformat": 4,
  "nbformat_minor": 0,
  "metadata": {
    "colab": {
      "name": "Session 1",
      "provenance": [],
      "collapsed_sections": [],
      "authorship_tag": "ABX9TyOecDahDRolB7rGtDwNDxe9",
      "include_colab_link": true
    },
    "kernelspec": {
      "name": "python3",
      "display_name": "Python 3"
    },
    "language_info": {
      "name": "python"
    }
  },
  "cells": [
    {
      "cell_type": "markdown",
      "metadata": {
        "id": "view-in-github",
        "colab_type": "text"
      },
      "source": [
        "<a href=\"https://colab.research.google.com/github/MichaelT2828/Unit_1/blob/main/Collab_Session_1.ipynb\" target=\"_parent\"><img src=\"https://colab.research.google.com/assets/colab-badge.svg\" alt=\"Open In Colab\"/></a>"
      ]
    },
    {
      "cell_type": "code",
      "metadata": {
        "colab": {
          "base_uri": "https://localhost:8080/"
        },
        "id": "TgdB9bpNsPOW",
        "outputId": "bd208376-ad90-48ae-d9e5-2d0583b530b7"
      },
      "source": [
        "#1 - Sum all numbers from 0 - 2021\n",
        "a = range(2021)\n",
        "print(sum(a))\n",
        "\n"
      ],
      "execution_count": null,
      "outputs": [
        {
          "output_type": "stream",
          "text": [
            "2041210\n",
            "hello\n",
            "hello\n"
          ],
          "name": "stdout"
        }
      ]
    },
    {
      "cell_type": "code",
      "metadata": {
        "colab": {
          "base_uri": "https://localhost:8080/"
        },
        "id": "m-oS5HkpwJ8V",
        "outputId": "f1720275-d572-4fed-d47b-04f5050ee123"
      },
      "source": [
        "#2 - Counting vowels in a word\n",
        "B = input()\n",
        "\n",
        "vowels = 0\n",
        "for letter in B:\n",
        "  if letter in \"AaEeIiOoUu\":\n",
        "    vowels += 1\n",
        "\n",
        "print(f\"Inside {B} is {vowels} vowels\")"
      ],
      "execution_count": null,
      "outputs": [
        {
          "output_type": "stream",
          "text": [
            "Hello world\n",
            "Inside Hello world is 3 vowels\n"
          ],
          "name": "stdout"
        }
      ]
    },
    {
      "cell_type": "code",
      "metadata": {
        "colab": {
          "base_uri": "https://localhost:8080/"
        },
        "id": "2xY42CZo8_Bl",
        "outputId": "a567d351-4eee-4735-982b-44f2d003954a"
      },
      "source": [
        "#3 - Convert miles to kilometers\n",
        "miles = int(input())\n",
        "print(miles * 1.609 )"
      ],
      "execution_count": null,
      "outputs": [
        {
          "output_type": "stream",
          "text": [
            "50\n",
            "80.45\n"
          ],
          "name": "stdout"
        }
      ]
    },
    {
      "cell_type": "code",
      "metadata": {
        "colab": {
          "base_uri": "https://localhost:8080/"
        },
        "id": "rprTKjxr9x5v",
        "outputId": "babd2cb0-8d9b-4e08-d6d9-656167f0c742"
      },
      "source": [
        "#4 - Solve quadratic equation with inputs a,b,c\n",
        "import math\n",
        "a = int(input(\"Enter the value for a: \"))\n",
        "b = int(input(\"Enter the value for b: \"))\n",
        "c = int(input(\"Enter the value for c: \"))\n",
        "#Check for real solution\n",
        "hcondition = b**2 - 4*a*c\n",
        "\n",
        "if condition >= 0:\n",
        "  x1 = (-b - math.sqrt(b**2 - 4*a*c))/2*a #or use x**(1/2) for square rooting\n",
        "  x2 = (-b + math.sqrt(b**2 - 4*a*c))/2*a\n",
        "  print(\"The first solution is\", round(x1,5), \"and the second solution is\", round(x2,5))\n",
        "else:\n",
        "  print(\"This equation has no real solution\")"
      ],
      "execution_count": null,
      "outputs": [
        {
          "output_type": "stream",
          "text": [
            "Enter the value for a: 0\n",
            "Enter the value for b: 0\n",
            "Enter the value for c: 0\n",
            "This equation has no real solution\n"
          ],
          "name": "stdout"
        }
      ]
    },
    {
      "cell_type": "code",
      "metadata": {
        "colab": {
          "base_uri": "https://localhost:8080/"
        },
        "id": "QAZ8Tf7TAeRN",
        "outputId": "1976010d-c09a-44d1-866b-5ed18eca7230"
      },
      "source": [
        "#5 - Reverse a word\n",
        "word = \"hello\"\n",
        "print(word[::-1])\n",
        "\n",
        "# Reversing a number\n",
        "number = input('Please enter a number:')\n",
        "print(number[::-1])"
      ],
      "execution_count": null,
      "outputs": [
        {
          "output_type": "stream",
          "text": [
            "olleh\n",
            "Please enter a number:205683\n",
            "386502\n"
          ],
          "name": "stdout"
        }
      ]
    },
    {
      "cell_type": "code",
      "metadata": {
        "colab": {
          "base_uri": "https://localhost:8080/"
        },
        "id": "xSgvH45FDkCp",
        "outputId": "00b31648-fe99-4383-c18a-0711fd6fc378"
      },
      "source": [
        "#6 - Ask user for name, age, nationality, and produce greeting message\n",
        "name = input()\n",
        "age = int(input())\n",
        "nationality = input()\n",
        "print(f\"Welcome {name}, you are {age} years old and a national of {nationality}\")"
      ],
      "execution_count": null,
      "outputs": [
        {
          "output_type": "stream",
          "text": [
            "Michael Tseng\n",
            "16\n",
            "Hong Kong\n",
            "Welcome Michael Tseng, you are 16 years old and a national of Hong Kong\n"
          ],
          "name": "stdout"
        }
      ]
    },
    {
      "cell_type": "code",
      "metadata": {
        "colab": {
          "base_uri": "https://localhost:8080/"
        },
        "id": "ALxW9ecoeIHp",
        "outputId": "11c66f09-3627-4f99-f015-690c85013d4b"
      },
      "source": [
        "#7 - Convert between different units\n",
        "print(\"This program converts units between millimeters, centimeters, meters and kilometers. Convert the first input to the second input.\")\n",
        "unit1 = input()\n",
        "unit2 = input()\n",
        "a = int(input())\n",
        "\n",
        "if 'milimeter' in unit1:\n",
        "  if 'centimeter' in unit2:\n",
        "    print(a / 10)\n",
        "  elif 'kilometer' in unit2:\n",
        "    print(a / 1000000)\n",
        "  elif 'meter' in unit2:\n",
        "    print(a / 1000)\n",
        "elif 'centimeter' in unit1:\n",
        "  if 'milimeter' in unit2:\n",
        "    print(a * 10)\n",
        "  elif 'kilometer' in unit2:\n",
        "    print(a / 100000)\n",
        "  elif 'meter' in unit2:\n",
        "    print(a / 100)\n",
        "elif 'kilometer' in unit1:\n",
        "  if 'milimeter' in unit2:\n",
        "    print(a * 1000000)\n",
        "  elif 'centimeter' in unit2:\n",
        "    print(a * 100000)\n",
        "  elif 'meter' in unit2:\n",
        "    print(a * 1000)\n",
        "elif 'meter' in unit1:\n",
        "  if 'milimeter' in unit2:\n",
        "    print(a * 1000)\n",
        "  elif 'centimeter' in unit2:\n",
        "    print(a * 100)\n",
        "  elif 'kilometer' in unit2:\n",
        "    print(a / 1000)"
      ],
      "execution_count": null,
      "outputs": [
        {
          "output_type": "stream",
          "text": [
            "This program converts units between millimeters, centimeters, meters and kilometers. Convert the first input to the second input.\n",
            "kilometer\n",
            "meter\n",
            "1\n",
            "1000\n"
          ],
          "name": "stdout"
        }
      ]
    }
  ]
}