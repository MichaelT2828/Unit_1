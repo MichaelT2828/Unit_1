{
  "nbformat": 4,
  "nbformat_minor": 0,
  "metadata": {
    "colab": {
      "name": "Session_4.ipynb",
      "provenance": [],
      "authorship_tag": "ABX9TyPCeRg1+p7O0CHzRUoQ84S+",
      "include_colab_link": true
    },
    "kernelspec": {
      "name": "python3",
      "display_name": "Python 3"
    },
    "language_info": {
      "name": "python"
    }
  },
  "cells": [
    {
      "cell_type": "markdown",
      "metadata": {
        "id": "view-in-github",
        "colab_type": "text"
      },
      "source": [
        "<a href=\"https://colab.research.google.com/github/MichaelT2828/Unit_1/blob/main/Session_3.ipynb\" target=\"_parent\"><img src=\"https://colab.research.google.com/assets/colab-badge.svg\" alt=\"Open In Colab\"/></a>"
      ]
    },
    {
      "cell_type": "code",
      "metadata": {
        "colab": {
          "base_uri": "https://localhost:8080/"
        },
        "id": "RcPOPVWfG6tZ",
        "outputId": "f733a3cd-2cb6-4a8a-8302-9d5d15569ec5"
      },
      "source": [
        "#1 - Show even numbers from 0 to input\n",
        "a = int(input())\n",
        "b = 0\n",
        "for n in range(a): #6 times\n",
        "  if n % 2 == 0: #if input is even number\n",
        "      b += 2\n",
        "      print(b)"
      ],
      "execution_count": 12,
      "outputs": [
        {
          "output_type": "stream",
          "name": "stdout",
          "text": [
            "6\n",
            "2\n",
            "4\n",
            "6\n"
          ]
        }
      ]
    },
    {
      "cell_type": "code",
      "metadata": {
        "colab": {
          "base_uri": "https://localhost:8080/"
        },
        "id": "VYojQFFxJdQd",
        "outputId": "b30e6144-9c30-441f-9ac4-26ed78625b30"
      },
      "source": [
        "#1.1 - Show even numbers from 0 to input, using 1 line\n",
        "a = int(input())\n",
        "for n in range(0, a + 1, 2): print(n)"
      ],
      "execution_count": 17,
      "outputs": [
        {
          "output_type": "stream",
          "name": "stdout",
          "text": [
            "6\n",
            "0\n",
            "2\n",
            "4\n",
            "6\n"
          ]
        }
      ]
    },
    {
      "cell_type": "code",
      "metadata": {
        "colab": {
          "base_uri": "https://localhost:8080/"
        },
        "id": "PZ1PKIALMRjQ",
        "outputId": "c79f07ac-9961-408c-8f59-5ca6797e78d8"
      },
      "source": [
        "#2 - Calculate average of list of scores\n",
        "scores = [1, 2, 3, 3, 2, 1, 5]\n",
        "print(sum(scores)/7)"
      ],
      "execution_count": 20,
      "outputs": [
        {
          "output_type": "stream",
          "name": "stdout",
          "text": [
            "2.4285714285714284\n"
          ]
        }
      ]
    },
    {
      "cell_type": "code",
      "metadata": {
        "colab": {
          "base_uri": "https://localhost:8080/"
        },
        "id": "if9XNJAqMxgT",
        "outputId": "0cad7de8-9c25-483a-c2ae-d13e76afbb66"
      },
      "source": [
        "#2.1 - Calculate average of list of scores, without using sum\n",
        "scores = [1, 2, 3, 3, 2, 1, 5]\n",
        "a = 0\n",
        "for n in scores: #\"scores\" is the same as \"range(len(scores))\"\"\n",
        "  a += score[n]\n",
        "print(a / len(scores))"
      ],
      "execution_count": 31,
      "outputs": [
        {
          "output_type": "stream",
          "name": "stdout",
          "text": [
            "2.4285714285714284\n"
          ]
        }
      ]
    },
    {
      "cell_type": "code",
      "metadata": {
        "id": "TovnICvsN__a"
      },
      "source": [
        ""
      ],
      "execution_count": 32,
      "outputs": []
    }
  ]
}