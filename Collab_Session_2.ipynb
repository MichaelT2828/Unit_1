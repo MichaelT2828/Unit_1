{
  "nbformat": 4,
  "nbformat_minor": 0,
  "metadata": {
    "colab": {
      "name": "Session_3.ipynb",
      "provenance": [],
      "authorship_tag": "ABX9TyOESwbE5JNHxegE2Fg8zz2V",
      "include_colab_link": true
    },
    "kernelspec": {
      "name": "python3",
      "display_name": "Python 3"
    },
    "language_info": {
      "name": "python"
    }
  },
  "cells": [
    {
      "cell_type": "markdown",
      "metadata": {
        "id": "view-in-github",
        "colab_type": "text"
      },
      "source": [
        "<a href=\"https://colab.research.google.com/github/MichaelT2828/Unit_1/blob/main/Collab_Session_2.ipynb\" target=\"_parent\"><img src=\"https://colab.research.google.com/assets/colab-badge.svg\" alt=\"Open In Colab\"/></a>"
      ]
    },
    {
      "cell_type": "code",
      "metadata": {
        "colab": {
          "base_uri": "https://localhost:8080/"
        },
        "id": "T48yaBaygIl2",
        "outputId": "de3f3c52-0838-4434-e8ef-4ec04dd71639"
      },
      "source": [
        "#1 - Organize 3 input heights from smallest to largest in cm\n",
        "print(\"This program organizes heights from smallest to largest\")\n",
        "h1 = int(input(\"Enter the first height: \"))\n",
        "h2 = int(input(\"Enter the second height: \"))\n",
        "h3 = int(input(\"Enter the third height: \"))\n",
        "if h1 < h2 < h3:\n",
        "  print(h1, h2, h3)\n",
        "elif h1 < h3 < h2:\n",
        "  print(h1, h3, h2)\n",
        "elif h2 < h1 < h3:\n",
        "  print(h2, h1, h3)\n",
        "elif h2 < h3 < h1:\n",
        "  print(h2, h3, h1)\n",
        "elif h3 < h1 < h2:\n",
        "  print(h3 < h1 < h2)\n",
        "elif h3 < h2 < h1:\n",
        "  print(h3, h2, h1)"
      ],
      "execution_count": null,
      "outputs": [
        {
          "output_type": "stream",
          "text": [
            "This program organizes heights from smallest to largest\n",
            "Enter the first height: 50\n",
            "Enter the second height: 105\n",
            "Enter the third height: 530\n",
            "50 105 530\n"
          ],
          "name": "stdout"
        }
      ]
    },
    {
      "cell_type": "code",
      "metadata": {
        "colab": {
          "base_uri": "https://localhost:8080/"
        },
        "id": "3A5-5fckl88l",
        "outputId": "6f024348-8044-4eaf-8b3f-e88796e609f2"
      },
      "source": [
        "#2 - Calculate the tax for a salary input\n",
        "sal = int(input(\"Enter your salary: \"))\n",
        "if 0 <= sal <= 10:\n",
        "  print(\"Your tax is:\", sal * 0.05)\n",
        "elif 10.001 <= sal <= 50:\n",
        "  print(\"Your tax is:\", sal * 0.1)\n",
        "elif 50.001 <= sal <= 100:\n",
        "  print(\"Your tax is:\", sal * 0.15)\n",
        "elif sal > 100.001:\n",
        "  print(\"Your tax is:\", sal * 0.25)"
      ],
      "execution_count": null,
      "outputs": [
        {
          "output_type": "stream",
          "text": [
            "Enter your salary: 20\n",
            "2.0\n"
          ],
          "name": "stdout"
        }
      ]
    },
    {
      "cell_type": "code",
      "metadata": {
        "colab": {
          "base_uri": "https://localhost:8080/"
        },
        "id": "BlyNLdavrXYi",
        "outputId": "7b858635-db13-47ea-f5bb-620be9bf5e77"
      },
      "source": [
        "#3 - Sort three names in alphabetical order\n",
        "name1 = input(\"Enter the first name: \")\n",
        "name2 = input(\"Enter the second name: \")\n",
        "name3 = input(\"Enter the third name: \")\n",
        "a = (name1, name2, name3)\n",
        "print(sorted(a))\n"
      ],
      "execution_count": null,
      "outputs": [
        {
          "output_type": "stream",
          "text": [
            "Enter the first name: Kazuto\n",
            "Enter the second name: Abe\n",
            "Enter the third name: Michael\n",
            "['Abe', 'Kazuto', 'Michael']\n"
          ],
          "name": "stdout"
        }
      ]
    },
    {
      "cell_type": "code",
      "metadata": {
        "colab": {
          "base_uri": "https://localhost:8080/"
        },
        "id": "eIH-BE64SCaX",
        "outputId": "84712ad7-50b6-437e-9fce-59daeab3d485"
      },
      "source": [
        "#3.5 - Sort three names in alphabetical order, without using sort\n",
        "name1 = input(\"Enter the first name: \")\n",
        "name2 = input(\"Enter the second name: \")\n",
        "name3 = input(\"Enter the third name: \")\n",
        "\n",
        "if name1[0] < name2[0] < name3[0]: #Different first letter\n",
        "  print(name1, name2, name3)\n",
        "elif name1[0] < name3[0] < name2[0]:\n",
        "  print(name1, name3, name2)\n",
        "elif name2[0] < name1[0] < name3[0]:\n",
        "  print(name2, name1, name3)\n",
        "elif name2[0] < name3[0] < name1[0]:\n",
        "  print(name2, name3, name1)\n",
        "elif name3[0] < name2[0] < name1[0]:\n",
        "  print(name1, name2, name3)\n",
        "elif name3[0] < name1[0] < name2[0]:\n",
        "  print(name1, name2, name3)\n",
        "#Somehow do for same first letter\n"
      ],
      "execution_count": null,
      "outputs": [
        {
          "output_type": "stream",
          "text": [
            "Enter the first name: Michael\n",
            "Enter the second name: Asahi\n",
            "Enter the third name: Shine\n",
            "Asahi Michael Shine\n"
          ],
          "name": "stdout"
        }
      ]
    },
    {
      "cell_type": "code",
      "metadata": {
        "colab": {
          "base_uri": "https://localhost:8080/"
        },
        "id": "clEBBsoGsFJ5",
        "outputId": "be09aba1-666e-4af5-ddc2-efb3c5be4b46"
      },
      "source": [
        "#3.6 - Sort three names in alphabetical order, without using sort, with same first letter\n",
        "name1 = input(\"Enter the first name: \")\n",
        "name2 = input(\"Enter the second name: \")\n",
        "name3 = input(\"Enter the third name: \")\n",
        "\n",
        "name11 = name1[0] + name1[1]\n",
        "name22 = name2[0] + name2[1]\n",
        "name33 = name3[0] + name3[1]\n",
        "\n",
        "if name11 < name22 < name33:\n",
        "  print(name1, name2, name3)\n",
        "elif name11 < name33 < name22:\n",
        "  print(name1, name3, name2)\n",
        "elif name22 < name11 < name33:\n",
        "  print(name2, name1, name3)\n",
        "elif name22 < name33 < name11:\n",
        "  print(name2, name3, name1)\n",
        "elif name33 < name22 < name11:\n",
        "  print(name1, name2, name3)\n",
        "elif name33 < name11 < name22:\n",
        "  print(name1, name2, name3)"
      ],
      "execution_count": 9,
      "outputs": [
        {
          "output_type": "stream",
          "name": "stdout",
          "text": [
            "Enter the first name: Andy\n",
            "Enter the second name: Abe\n",
            "Enter the third name: Adrian\n",
            "Abe Adrian Andy\n"
          ]
        }
      ]
    },
    {
      "cell_type": "code",
      "metadata": {
        "id": "9PSwB7CIstIC",
        "colab": {
          "base_uri": "https://localhost:8080/"
        },
        "outputId": "63aeed02-587c-4b79-b405-5ecc46fe5c7c"
      },
      "source": [
        "#4 - Calculate the median of 4 or 5 inputs\n",
        "input1 = int(input(\"Enter the 1st score: \"))\n",
        "input2 = int(input(\"Enter the 2nd score: \"))\n",
        "input3 = int(input(\"Enter the 3rd score: \"))\n",
        "input4 = int(input(\"Enter the 4th score: \"))\n",
        "input5 = int(input(\"Enter 0 if there is no 5th score: \"))\n",
        "\n",
        "if input5 != 0: #5 scores\n",
        "  a = (input1, input2, input3, input4, input5)\n",
        "  b = sorted(a)\n",
        "  print(f\"The median is {b[2]}\")\n",
        "elif input5 == 0:\n",
        "  a = (input1, input2, input3, input4)\n",
        "  b = sorted(a)\n",
        "  c = (b[1]+b[2]) / 2\n",
        "  print(f\"The median is {c}\")"
      ],
      "execution_count": 21,
      "outputs": [
        {
          "output_type": "stream",
          "name": "stdout",
          "text": [
            "Enter the 1st score1\n",
            "Enter the 2nd score2\n",
            "Enter the 3rd score3\n",
            "Enter the 4th score4\n",
            "Enter 0 if there is no 5th score: 0\n",
            "2.5\n"
          ]
        }
      ]
    }
  ]
}